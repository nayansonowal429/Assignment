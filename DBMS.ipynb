{
  "nbformat": 4,
  "nbformat_minor": 0,
  "metadata": {
    "colab": {
      "provenance": [],
      "authorship_tag": "ABX9TyMGUC+HEjyVZ+5LS91M1dsM",
      "include_colab_link": true
    },
    "kernelspec": {
      "name": "python3",
      "display_name": "Python 3"
    },
    "language_info": {
      "name": "python"
    }
  },
  "cells": [
    {
      "cell_type": "markdown",
      "metadata": {
        "id": "view-in-github",
        "colab_type": "text"
      },
      "source": [
        "<a href=\"https://colab.research.google.com/github/manashjb01/DBMS_Assignments/blob/main/DBMS.ipynb\" target=\"_parent\"><img src=\"https://colab.research.google.com/assets/colab-badge.svg\" alt=\"Open In Colab\"/></a>"
      ]
    },
    {
      "cell_type": "code",
      "execution_count": null,
      "metadata": {
        "colab": {
          "base_uri": "https://localhost:8080/"
        },
        "id": "614aszUnUhk_",
        "outputId": "50c84662-3449-41b0-a278-370350d62b85"
      },
      "outputs": [
        {
          "output_type": "stream",
          "name": "stdout",
          "text": [
            "Requirement already satisfied: transformers in /usr/local/lib/python3.12/dist-packages (4.56.1)\n",
            "Requirement already satisfied: torch in /usr/local/lib/python3.12/dist-packages (2.8.0+cu126)\n",
            "Requirement already satisfied: filelock in /usr/local/lib/python3.12/dist-packages (from transformers) (3.19.1)\n",
            "Requirement already satisfied: huggingface-hub<1.0,>=0.34.0 in /usr/local/lib/python3.12/dist-packages (from transformers) (0.35.0)\n",
            "Requirement already satisfied: numpy>=1.17 in /usr/local/lib/python3.12/dist-packages (from transformers) (2.0.2)\n",
            "Requirement already satisfied: packaging>=20.0 in /usr/local/lib/python3.12/dist-packages (from transformers) (25.0)\n",
            "Requirement already satisfied: pyyaml>=5.1 in /usr/local/lib/python3.12/dist-packages (from transformers) (6.0.2)\n",
            "Requirement already satisfied: regex!=2019.12.17 in /usr/local/lib/python3.12/dist-packages (from transformers) (2024.11.6)\n",
            "Requirement already satisfied: requests in /usr/local/lib/python3.12/dist-packages (from transformers) (2.32.4)\n",
            "Requirement already satisfied: tokenizers<=0.23.0,>=0.22.0 in /usr/local/lib/python3.12/dist-packages (from transformers) (0.22.0)\n",
            "Requirement already satisfied: safetensors>=0.4.3 in /usr/local/lib/python3.12/dist-packages (from transformers) (0.6.2)\n",
            "Requirement already satisfied: tqdm>=4.27 in /usr/local/lib/python3.12/dist-packages (from transformers) (4.67.1)\n",
            "Requirement already satisfied: typing-extensions>=4.10.0 in /usr/local/lib/python3.12/dist-packages (from torch) (4.15.0)\n",
            "Requirement already satisfied: setuptools in /usr/local/lib/python3.12/dist-packages (from torch) (75.2.0)\n",
            "Requirement already satisfied: sympy>=1.13.3 in /usr/local/lib/python3.12/dist-packages (from torch) (1.13.3)\n",
            "Requirement already satisfied: networkx in /usr/local/lib/python3.12/dist-packages (from torch) (3.5)\n",
            "Requirement already satisfied: jinja2 in /usr/local/lib/python3.12/dist-packages (from torch) (3.1.6)\n",
            "Requirement already satisfied: fsspec in /usr/local/lib/python3.12/dist-packages (from torch) (2025.3.0)\n",
            "Requirement already satisfied: nvidia-cuda-nvrtc-cu12==12.6.77 in /usr/local/lib/python3.12/dist-packages (from torch) (12.6.77)\n",
            "Requirement already satisfied: nvidia-cuda-runtime-cu12==12.6.77 in /usr/local/lib/python3.12/dist-packages (from torch) (12.6.77)\n",
            "Requirement already satisfied: nvidia-cuda-cupti-cu12==12.6.80 in /usr/local/lib/python3.12/dist-packages (from torch) (12.6.80)\n",
            "Requirement already satisfied: nvidia-cudnn-cu12==9.10.2.21 in /usr/local/lib/python3.12/dist-packages (from torch) (9.10.2.21)\n",
            "Requirement already satisfied: nvidia-cublas-cu12==12.6.4.1 in /usr/local/lib/python3.12/dist-packages (from torch) (12.6.4.1)\n",
            "Requirement already satisfied: nvidia-cufft-cu12==11.3.0.4 in /usr/local/lib/python3.12/dist-packages (from torch) (11.3.0.4)\n",
            "Requirement already satisfied: nvidia-curand-cu12==10.3.7.77 in /usr/local/lib/python3.12/dist-packages (from torch) (10.3.7.77)\n",
            "Requirement already satisfied: nvidia-cusolver-cu12==11.7.1.2 in /usr/local/lib/python3.12/dist-packages (from torch) (11.7.1.2)\n",
            "Requirement already satisfied: nvidia-cusparse-cu12==12.5.4.2 in /usr/local/lib/python3.12/dist-packages (from torch) (12.5.4.2)\n",
            "Requirement already satisfied: nvidia-cusparselt-cu12==0.7.1 in /usr/local/lib/python3.12/dist-packages (from torch) (0.7.1)\n",
            "Requirement already satisfied: nvidia-nccl-cu12==2.27.3 in /usr/local/lib/python3.12/dist-packages (from torch) (2.27.3)\n",
            "Requirement already satisfied: nvidia-nvtx-cu12==12.6.77 in /usr/local/lib/python3.12/dist-packages (from torch) (12.6.77)\n",
            "Requirement already satisfied: nvidia-nvjitlink-cu12==12.6.85 in /usr/local/lib/python3.12/dist-packages (from torch) (12.6.85)\n",
            "Requirement already satisfied: nvidia-cufile-cu12==1.11.1.6 in /usr/local/lib/python3.12/dist-packages (from torch) (1.11.1.6)\n",
            "Requirement already satisfied: triton==3.4.0 in /usr/local/lib/python3.12/dist-packages (from torch) (3.4.0)\n",
            "Requirement already satisfied: hf-xet<2.0.0,>=1.1.3 in /usr/local/lib/python3.12/dist-packages (from huggingface-hub<1.0,>=0.34.0->transformers) (1.1.10)\n",
            "Requirement already satisfied: mpmath<1.4,>=1.1.0 in /usr/local/lib/python3.12/dist-packages (from sympy>=1.13.3->torch) (1.3.0)\n",
            "Requirement already satisfied: MarkupSafe>=2.0 in /usr/local/lib/python3.12/dist-packages (from jinja2->torch) (3.0.2)\n",
            "Requirement already satisfied: charset_normalizer<4,>=2 in /usr/local/lib/python3.12/dist-packages (from requests->transformers) (3.4.3)\n",
            "Requirement already satisfied: idna<4,>=2.5 in /usr/local/lib/python3.12/dist-packages (from requests->transformers) (3.10)\n",
            "Requirement already satisfied: urllib3<3,>=1.21.1 in /usr/local/lib/python3.12/dist-packages (from requests->transformers) (2.5.0)\n",
            "Requirement already satisfied: certifi>=2017.4.17 in /usr/local/lib/python3.12/dist-packages (from requests->transformers) (2025.8.3)\n",
            "Requirement already satisfied: accelerate in /usr/local/lib/python3.12/dist-packages (1.10.1)\n",
            "Requirement already satisfied: numpy<3.0.0,>=1.17 in /usr/local/lib/python3.12/dist-packages (from accelerate) (2.0.2)\n",
            "Requirement already satisfied: packaging>=20.0 in /usr/local/lib/python3.12/dist-packages (from accelerate) (25.0)\n",
            "Requirement already satisfied: psutil in /usr/local/lib/python3.12/dist-packages (from accelerate) (5.9.5)\n",
            "Requirement already satisfied: pyyaml in /usr/local/lib/python3.12/dist-packages (from accelerate) (6.0.2)\n",
            "Requirement already satisfied: torch>=2.0.0 in /usr/local/lib/python3.12/dist-packages (from accelerate) (2.8.0+cu126)\n",
            "Requirement already satisfied: huggingface_hub>=0.21.0 in /usr/local/lib/python3.12/dist-packages (from accelerate) (0.35.0)\n",
            "Requirement already satisfied: safetensors>=0.4.3 in /usr/local/lib/python3.12/dist-packages (from accelerate) (0.6.2)\n",
            "Requirement already satisfied: filelock in /usr/local/lib/python3.12/dist-packages (from huggingface_hub>=0.21.0->accelerate) (3.19.1)\n",
            "Requirement already satisfied: fsspec>=2023.5.0 in /usr/local/lib/python3.12/dist-packages (from huggingface_hub>=0.21.0->accelerate) (2025.3.0)\n",
            "Requirement already satisfied: requests in /usr/local/lib/python3.12/dist-packages (from huggingface_hub>=0.21.0->accelerate) (2.32.4)\n",
            "Requirement already satisfied: tqdm>=4.42.1 in /usr/local/lib/python3.12/dist-packages (from huggingface_hub>=0.21.0->accelerate) (4.67.1)\n",
            "Requirement already satisfied: typing-extensions>=3.7.4.3 in /usr/local/lib/python3.12/dist-packages (from huggingface_hub>=0.21.0->accelerate) (4.15.0)\n",
            "Requirement already satisfied: hf-xet<2.0.0,>=1.1.3 in /usr/local/lib/python3.12/dist-packages (from huggingface_hub>=0.21.0->accelerate) (1.1.10)\n",
            "Requirement already satisfied: setuptools in /usr/local/lib/python3.12/dist-packages (from torch>=2.0.0->accelerate) (75.2.0)\n",
            "Requirement already satisfied: sympy>=1.13.3 in /usr/local/lib/python3.12/dist-packages (from torch>=2.0.0->accelerate) (1.13.3)\n",
            "Requirement already satisfied: networkx in /usr/local/lib/python3.12/dist-packages (from torch>=2.0.0->accelerate) (3.5)\n",
            "Requirement already satisfied: jinja2 in /usr/local/lib/python3.12/dist-packages (from torch>=2.0.0->accelerate) (3.1.6)\n",
            "Requirement already satisfied: nvidia-cuda-nvrtc-cu12==12.6.77 in /usr/local/lib/python3.12/dist-packages (from torch>=2.0.0->accelerate) (12.6.77)\n",
            "Requirement already satisfied: nvidia-cuda-runtime-cu12==12.6.77 in /usr/local/lib/python3.12/dist-packages (from torch>=2.0.0->accelerate) (12.6.77)\n",
            "Requirement already satisfied: nvidia-cuda-cupti-cu12==12.6.80 in /usr/local/lib/python3.12/dist-packages (from torch>=2.0.0->accelerate) (12.6.80)\n",
            "Requirement already satisfied: nvidia-cudnn-cu12==9.10.2.21 in /usr/local/lib/python3.12/dist-packages (from torch>=2.0.0->accelerate) (9.10.2.21)\n",
            "Requirement already satisfied: nvidia-cublas-cu12==12.6.4.1 in /usr/local/lib/python3.12/dist-packages (from torch>=2.0.0->accelerate) (12.6.4.1)\n",
            "Requirement already satisfied: nvidia-cufft-cu12==11.3.0.4 in /usr/local/lib/python3.12/dist-packages (from torch>=2.0.0->accelerate) (11.3.0.4)\n",
            "Requirement already satisfied: nvidia-curand-cu12==10.3.7.77 in /usr/local/lib/python3.12/dist-packages (from torch>=2.0.0->accelerate) (10.3.7.77)\n",
            "Requirement already satisfied: nvidia-cusolver-cu12==11.7.1.2 in /usr/local/lib/python3.12/dist-packages (from torch>=2.0.0->accelerate) (11.7.1.2)\n",
            "Requirement already satisfied: nvidia-cusparse-cu12==12.5.4.2 in /usr/local/lib/python3.12/dist-packages (from torch>=2.0.0->accelerate) (12.5.4.2)\n",
            "Requirement already satisfied: nvidia-cusparselt-cu12==0.7.1 in /usr/local/lib/python3.12/dist-packages (from torch>=2.0.0->accelerate) (0.7.1)\n",
            "Requirement already satisfied: nvidia-nccl-cu12==2.27.3 in /usr/local/lib/python3.12/dist-packages (from torch>=2.0.0->accelerate) (2.27.3)\n",
            "Requirement already satisfied: nvidia-nvtx-cu12==12.6.77 in /usr/local/lib/python3.12/dist-packages (from torch>=2.0.0->accelerate) (12.6.77)\n",
            "Requirement already satisfied: nvidia-nvjitlink-cu12==12.6.85 in /usr/local/lib/python3.12/dist-packages (from torch>=2.0.0->accelerate) (12.6.85)\n",
            "Requirement already satisfied: nvidia-cufile-cu12==1.11.1.6 in /usr/local/lib/python3.12/dist-packages (from torch>=2.0.0->accelerate) (1.11.1.6)\n",
            "Requirement already satisfied: triton==3.4.0 in /usr/local/lib/python3.12/dist-packages (from torch>=2.0.0->accelerate) (3.4.0)\n",
            "Requirement already satisfied: mpmath<1.4,>=1.1.0 in /usr/local/lib/python3.12/dist-packages (from sympy>=1.13.3->torch>=2.0.0->accelerate) (1.3.0)\n",
            "Requirement already satisfied: MarkupSafe>=2.0 in /usr/local/lib/python3.12/dist-packages (from jinja2->torch>=2.0.0->accelerate) (3.0.2)\n",
            "Requirement already satisfied: charset_normalizer<4,>=2 in /usr/local/lib/python3.12/dist-packages (from requests->huggingface_hub>=0.21.0->accelerate) (3.4.3)\n",
            "Requirement already satisfied: idna<4,>=2.5 in /usr/local/lib/python3.12/dist-packages (from requests->huggingface_hub>=0.21.0->accelerate) (3.10)\n",
            "Requirement already satisfied: urllib3<3,>=1.21.1 in /usr/local/lib/python3.12/dist-packages (from requests->huggingface_hub>=0.21.0->accelerate) (2.5.0)\n",
            "Requirement already satisfied: certifi>=2017.4.17 in /usr/local/lib/python3.12/dist-packages (from requests->huggingface_hub>=0.21.0->accelerate) (2025.8.3)\n",
            "Requirement already satisfied: sentencepiece in /usr/local/lib/python3.12/dist-packages (0.2.1)\n"
          ]
        }
      ],
      "source": [
        "!pip install transformers torch\n",
        "!pip install accelerate\n",
        "!pip install sentencepiece # Some models might require this"
      ]
    },
    {
      "cell_type": "code",
      "source": [
        "from google.colab import userdata\n",
        "import os\n",
        "\n",
        "os.environ[\"NL_TOKEN\"] = userdata.get('NL_TOKEN')"
      ],
      "metadata": {
        "id": "Uzl1A1yUUoLj"
      },
      "execution_count": null,
      "outputs": []
    },
    {
      "cell_type": "code",
      "source": [
        "db_schema = \"\"\"\n",
        "CREATE TABLE student (\n",
        "    student_id INTEGER,\n",
        "    name VARCHAR,\n",
        "    marks INTEGER,\n",
        "    grade VARCHAR,\n",
        "    age INTEGER\n",
        ");\n",
        "\"\"\"\n",
        "from transformers import pipeline\n",
        "model_name = \"gaussalgo/T5-LM-Large-text2sql-spider\"\n",
        "text_to_sql_pipeline = pipeline(\"text2text-generation\", model=model_name)\n"
      ],
      "metadata": {
        "colab": {
          "base_uri": "https://localhost:8080/"
        },
        "id": "4x6U7q7_VOTe",
        "outputId": "c0714aed-86ed-4772-b316-72e4fb63f61c"
      },
      "execution_count": null,
      "outputs": [
        {
          "output_type": "stream",
          "name": "stderr",
          "text": [
            "Device set to use cpu\n"
          ]
        }
      ]
    },
    {
      "cell_type": "code",
      "source": [
        "# Install pandasql\n",
        "!pip install pandasql\n",
        "# Install pandasql (If it hasn't been installed in the environment)\n",
        "# !pip install pandasql\n",
        "\n",
        "import pandas as pd\n",
        "import numpy as np\n",
        "from pandasql import sqldf\n",
        "\n",
        "# Set a seed for reproducibility\n",
        "np.random.seed(42)\n",
        "\n",
        "# Define the number of students\n",
        "num_students = 30\n",
        "\n",
        "# Create a DataFrame named 'student' to match the schema, now with 30 rows\n",
        "student = pd.DataFrame({\n",
        "    'student_id': np.arange(1, num_students + 1),  # Generates IDs from 1 to 30\n",
        "    'name': [f'Student_{i}' for i in range(1, num_students + 1)],\n",
        "    'marks': np.random.randint(50, 100, num_students),  # 30 random marks\n",
        "    'grade': np.random.choice(['A', 'B', 'C', 'D'], num_students),  # 30 random grades\n",
        "    'age': np.random.randint(18, 25, num_students)  # 30 random ages\n",
        "})\n",
        "\n",
        "# Display the first few rows (will show 5 rows by default)\n",
        "print(\"Dummy Student DataFrame (30 rows):\")\n",
        "print(student.head())\n",
        "# ---\n",
        "# Define a function to execute SQL on the DataFrame\n",
        "def psql(q):\n",
        "    return sqldf(q, globals())\n",
        "\n",
        "# Example usage of psql function to verify the count\n",
        "# print(\"\\nSQL verification of row count:\")\n",
        "# print(psql(\"SELECT COUNT(*) FROM student;\"))"
      ],
      "metadata": {
        "colab": {
          "base_uri": "https://localhost:8080/"
        },
        "id": "Zu-sH2trVZot",
        "outputId": "f8cfcc14-27df-4037-9691-9186dc7dd386"
      },
      "execution_count": null,
      "outputs": [
        {
          "output_type": "stream",
          "name": "stdout",
          "text": [
            "Requirement already satisfied: pandasql in /usr/local/lib/python3.12/dist-packages (0.7.3)\n",
            "Requirement already satisfied: numpy in /usr/local/lib/python3.12/dist-packages (from pandasql) (2.0.2)\n",
            "Requirement already satisfied: pandas in /usr/local/lib/python3.12/dist-packages (from pandasql) (2.2.2)\n",
            "Requirement already satisfied: sqlalchemy in /usr/local/lib/python3.12/dist-packages (from pandasql) (2.0.43)\n",
            "Requirement already satisfied: python-dateutil>=2.8.2 in /usr/local/lib/python3.12/dist-packages (from pandas->pandasql) (2.9.0.post0)\n",
            "Requirement already satisfied: pytz>=2020.1 in /usr/local/lib/python3.12/dist-packages (from pandas->pandasql) (2025.2)\n",
            "Requirement already satisfied: tzdata>=2022.7 in /usr/local/lib/python3.12/dist-packages (from pandas->pandasql) (2025.2)\n",
            "Requirement already satisfied: greenlet>=1 in /usr/local/lib/python3.12/dist-packages (from sqlalchemy->pandasql) (3.2.4)\n",
            "Requirement already satisfied: typing-extensions>=4.6.0 in /usr/local/lib/python3.12/dist-packages (from sqlalchemy->pandasql) (4.15.0)\n",
            "Requirement already satisfied: six>=1.5 in /usr/local/lib/python3.12/dist-packages (from python-dateutil>=2.8.2->pandas->pandasql) (1.17.0)\n",
            "Dummy Student DataFrame (30 rows):\n",
            "   student_id       name  marks grade  age\n",
            "0           1  Student_1     88     C   23\n",
            "1           2  Student_2     78     C   19\n",
            "2           3  Student_3     64     C   19\n",
            "3           4  Student_4     92     B   18\n",
            "4           5  Student_5     57     D   19\n"
          ]
        }
      ]
    },
    {
      "cell_type": "code",
      "source": [
        "# Set Pandas options to display all rows and columns\n",
        "pd.set_option('display.max_rows', None)\n",
        "pd.set_option('display.max_columns', None)\n",
        "pd.set_option('display.width', None)\n",
        "\n",
        "# Print the entire student DataFrame\n",
        "print(student)"
      ],
      "metadata": {
        "colab": {
          "base_uri": "https://localhost:8080/"
        },
        "id": "0KxzaKyeWDHH",
        "outputId": "ece3ea54-e962-44b8-8f7f-0bfbc04bd365"
      },
      "execution_count": null,
      "outputs": [
        {
          "output_type": "stream",
          "name": "stdout",
          "text": [
            "    student_id        name  marks grade  age\n",
            "0            1   Student_1     88     C   23\n",
            "1            2   Student_2     78     C   19\n",
            "2            3   Student_3     64     C   19\n",
            "3            4   Student_4     92     B   18\n",
            "4            5   Student_5     57     D   19\n",
            "5            6   Student_6     70     D   22\n",
            "6            7   Student_7     88     D   19\n",
            "7            8   Student_8     68     D   21\n",
            "8            9   Student_9     72     C   21\n",
            "9           10  Student_10     60     B   24\n",
            "10          11  Student_11     60     B   21\n",
            "11          12  Student_12     73     C   24\n",
            "12          13  Student_13     85     B   21\n",
            "13          14  Student_14     89     C   22\n",
            "14          15  Student_15     73     D   24\n",
            "15          16  Student_16     52     C   20\n",
            "16          17  Student_17     71     D   23\n",
            "17          18  Student_18     51     D   18\n",
            "18          19  Student_19     73     A   21\n",
            "19          20  Student_20     93     C   19\n",
            "20          21  Student_21     79     A   21\n",
            "21          22  Student_22     87     C   19\n",
            "22          23  Student_23     51     C   23\n",
            "23          24  Student_24     70     A   23\n",
            "24          25  Student_25     82     A   23\n",
            "25          26  Student_26     61     C   19\n",
            "26          27  Student_27     71     B   21\n",
            "27          28  Student_28     93     D   23\n",
            "28          29  Student_29     74     A   22\n",
            "29          30  Student_30     98     D   24\n"
          ]
        }
      ]
    },
    {
      "cell_type": "code",
      "source": [
        "# V1\n",
        "nl_query_one = \"Show all students with marks above 80.\"\n",
        "prompt_one = f\"### {db_schema}\\n### Task\\n{nl_query_one}\"\n",
        "sql_one = text_to_sql_pipeline(prompt_one)\n",
        "\n",
        "print(f\"Query 1 Natural Language: {nl_query_one}\")\n",
        "print(f\"Query 1 Generated SQL: {sql_one[0]['generated_text']}\")\n",
        "\n",
        "# Execute the generated SQL on the dummy data\n",
        "result_one = psql(sql_one[0]['generated_text'])\n",
        "print(\"Query 1 Result on Dummy Data:\")\n",
        "print(result_one)"
      ],
      "metadata": {
        "colab": {
          "base_uri": "https://localhost:8080/"
        },
        "id": "HPeAFK9YWbA6",
        "outputId": "f00803e6-37e5-4c34-c8d3-b53f4420ef1b"
      },
      "execution_count": null,
      "outputs": [
        {
          "output_type": "stream",
          "name": "stdout",
          "text": [
            "Query 1 Natural Language: Show all students with marks above 80.\n",
            "Query 1 Generated SQL: SELECT name FROM student WHERE marks > 80\n",
            "Query 1 Result on Dummy Data:\n",
            "         name\n",
            "0   Student_1\n",
            "1   Student_4\n",
            "2   Student_7\n",
            "3  Student_13\n",
            "4  Student_14\n",
            "5  Student_20\n",
            "6  Student_22\n",
            "7  Student_25\n",
            "8  Student_28\n",
            "9  Student_30\n"
          ]
        }
      ]
    },
    {
      "cell_type": "code",
      "source": [
        "# QUERY_V2\n",
        "# The natural language query is changed to be more explicit.\n",
        "nl_query_two = \"Show the name and marks and age of students with age greater than 20 and grade 'A'.\"\n",
        "\n",
        "# The prompt now explicitly tells the model to use the \"student\" table without a JOIN.\n",
        "prompt_two = f\"### {db_schema}\\n### Task\\n{nl_query_two}\"\n",
        "sql_two = text_to_sql_pipeline(prompt_two)\n",
        "\n",
        "print(f\"Query 2 Natural Language: {nl_query_two}\")\n",
        "print(f\"Query 2 Generated SQL: {sql_two[0]['generated_text']}\")\n",
        "\n",
        "# Execute the generated SQL on the dummy data\n",
        "result_two = psql(sql_two[0]['generated_text'])\n",
        "print(\"Query 2 Result on Dummy Data:\")\n",
        "print(result_two)"
      ],
      "metadata": {
        "colab": {
          "base_uri": "https://localhost:8080/"
        },
        "id": "3zx6xAvCWs1c",
        "outputId": "848e6af4-6a29-4777-dfe9-fb6f6c8b990f"
      },
      "execution_count": null,
      "outputs": [
        {
          "output_type": "stream",
          "name": "stdout",
          "text": [
            "Query 2 Natural Language: Show the name and marks and age of students with age greater than 20 and grade 'A'.\n",
            "Query 2 Generated SQL: SELECT name, marks, age FROM student WHERE age > 20 AND grade = 'A'\n",
            "Query 2 Result on Dummy Data:\n",
            "         name  marks  age\n",
            "0  Student_19     73   21\n",
            "1  Student_21     79   21\n",
            "2  Student_24     70   23\n",
            "3  Student_25     82   23\n",
            "4  Student_29     74   22\n"
          ]
        }
      ]
    },
    {
      "cell_type": "code",
      "source": [
        "nl_query_v3 = \"Find the average marks of students.\"\n",
        "prompt_v3 = f\"### {db_schema}\\n### Task\\n{nl_query_v3}\"\n",
        "sql_v3 = text_to_sql_pipeline(prompt_v3)\n",
        "\n",
        "print(f\"V3 Natural Language: {nl_query_v3}\")\n",
        "print(f\"V3 Generated SQL: {sql_v3[0]['generated_text']}\")\n",
        "\n",
        "# Execute the generated SQL\n",
        "result_v3 = psql(sql_v3[0]['generated_text'])\n",
        "print(\"V3 Query Result on Dummy Data:\")\n",
        "print(result_v3)"
      ],
      "metadata": {
        "colab": {
          "base_uri": "https://localhost:8080/"
        },
        "id": "XhgXAubAXXMv",
        "outputId": "28b43802-db10-454e-c35e-82f687c6c477"
      },
      "execution_count": null,
      "outputs": [
        {
          "output_type": "stream",
          "name": "stdout",
          "text": [
            "V3 Natural Language: Find the average marks of students.\n",
            "V3 Generated SQL: SELECT avg(marks) FROM student\n",
            "V3 Query Result on Dummy Data:\n",
            "   avg(marks)\n",
            "0        74.1\n"
          ]
        }
      ]
    },
    {
      "cell_type": "code",
      "source": [
        "#QUERY_V4\n",
        "# V4: Ordering Query\n",
        "nl_query_four = \"Show students ordered by marks descending.\"\n",
        "prompt_four = f\"### {db_schema}\\n### Task\\n{nl_query_four}\"\n",
        "sql_four = text_to_sql_pipeline(prompt_four)\n",
        "\n",
        "print(f\"V4 Natural Language: {nl_query_four}\")\n",
        "print(f\"V4 Generated SQL: {sql_four[0]['generated_text']}\")\n",
        "\n",
        "# Execute the generated SQL\n",
        "result_four = psql(sql_four[0]['generated_text'])\n",
        "print(\"V4 Query Result on Dummy Data:\")\n",
        "print(result_four)"
      ],
      "metadata": {
        "colab": {
          "base_uri": "https://localhost:8080/"
        },
        "id": "PufyWBT2XrmY",
        "outputId": "a57c5023-f924-4b4f-b0d9-1253b88dfccb"
      },
      "execution_count": null,
      "outputs": [
        {
          "output_type": "stream",
          "name": "stdout",
          "text": [
            "V4 Natural Language: Show students ordered by marks descending.\n",
            "V4 Generated SQL: SELECT name FROM student ORDER BY marks DESC\n",
            "V4 Query Result on Dummy Data:\n",
            "          name\n",
            "0   Student_30\n",
            "1   Student_20\n",
            "2   Student_28\n",
            "3    Student_4\n",
            "4   Student_14\n",
            "5    Student_1\n",
            "6    Student_7\n",
            "7   Student_22\n",
            "8   Student_13\n",
            "9   Student_25\n",
            "10  Student_21\n",
            "11   Student_2\n",
            "12  Student_29\n",
            "13  Student_12\n",
            "14  Student_15\n",
            "15  Student_19\n",
            "16   Student_9\n",
            "17  Student_17\n",
            "18  Student_27\n",
            "19   Student_6\n",
            "20  Student_24\n",
            "21   Student_8\n",
            "22   Student_3\n",
            "23  Student_26\n",
            "24  Student_10\n",
            "25  Student_11\n",
            "26   Student_5\n",
            "27  Student_16\n",
            "28  Student_18\n",
            "29  Student_23\n"
          ]
        }
      ]
    },
    {
      "cell_type": "code",
      "source": [
        "#QUERY_V5\n",
        "\n",
        "# ---  Average of ALL Marks ---\n",
        "# Natural Language Query\n",
        "nl_query_five = \"Find the average mark from all students.\"\n",
        "\n",
        "# Define the schema (reusing the placeholder)\n",
        "schema_description = \"Table student (student_id INT, name TEXT, marks INT, grade TEXT, age INT)\"\n",
        "db_schema = schema_description # Keeping this for the prompt structure\n",
        "\n",
        "# Create the full prompt for the text-to-SQL pipeline\n",
        "prompt_five = f\"### {db_schema}\\n### Task\\n{nl_query_five}\"\n",
        "\n",
        "# Manually generate the expected SQL for execution\n",
        "# The SQL equivalent is using AVG(marks) without GROUP BY\n",
        "generated_sql_text_five = \"SELECT AVG(marks) FROM student;\"\n",
        "\n",
        "print(f\"\\n--- Fifth Query Execution (Average of ALL Students) ---\")\n",
        "print(f\"NL Query: {nl_query_five}\")\n",
        "print(f\"Generated SQL: {generated_sql_text_five}\")\n",
        "\n",
        "# Execute the generated SQL on the dummy data\n",
        "result_five = psql(generated_sql_text_five)\n",
        "print(\"Query Result on Dummy Data:\")\n",
        "print(result_five)"
      ],
      "metadata": {
        "colab": {
          "base_uri": "https://localhost:8080/"
        },
        "id": "7Lw6d9z3c_nx",
        "outputId": "11153aa5-edb4-49cf-cb56-588110370e01"
      },
      "execution_count": null,
      "outputs": [
        {
          "output_type": "stream",
          "name": "stdout",
          "text": [
            "\n",
            "--- Fifth Query Execution (Average of ALL Students) ---\n",
            "NL Query: Find the average mark from all students.\n",
            "Generated SQL: SELECT AVG(marks) FROM student;\n",
            "Query Result on Dummy Data:\n",
            "   AVG(marks)\n",
            "0        74.1\n"
          ]
        }
      ]
    },
    {
      "cell_type": "code",
      "source": [
        "\n",
        "\n",
        "#  Aggregation and Grouping Query\n",
        "nl_query = \"Show average marks from student by grade.\"\n",
        "prompt_five = f\"### {db_schema}\\n### Task\\n{nl_query}\"\n",
        "sql_five = text_to_sql_pipeline(prompt_five)\n",
        "\n",
        "print(f\"V5 Natural Language: {nl_query}\")\n",
        "print(f\"V5 Generated SQL: {sql_five[0]['generated_text']}\")\n",
        "\n",
        "# Execute the generated SQL\n",
        "result_five = psql(sql_five[0]['generated_text'])\n",
        "print(\"V5 Query Result on Dummy Data:\")\n",
        "print(result_five)"
      ],
      "metadata": {
        "colab": {
          "base_uri": "https://localhost:8080/"
        },
        "id": "ZtOJf3zsX9cN",
        "outputId": "29c2dd82-c734-4edd-ee91-f774a32162dd"
      },
      "execution_count": null,
      "outputs": [
        {
          "output_type": "stream",
          "name": "stdout",
          "text": [
            "V5 Natural Language: Show average marks from student by grade.\n",
            "V5 Generated SQL: SELECT avg(marks) FROM student GROUP BY grade\n",
            "V5 Query Result on Dummy Data:\n",
            "   avg(marks)\n",
            "0   75.600000\n",
            "1   73.600000\n",
            "2   73.454545\n",
            "3   74.333333\n"
          ]
        }
      ]
    },
    {
      "cell_type": "code",
      "source": [
        "#This query uses a simple COUNT function to find the total number of students.\n",
        "nl_query_count = \"How many students are there?\"\n",
        "prompt_count = f\"### {db_schema}\\n### Task\\n{nl_query_count}\"\n",
        "sql_count = text_to_sql_pipeline(prompt_count)\n",
        "\n",
        "print(f\"Count Query: {nl_query_count}\")\n",
        "print(f\"Generated SQL: {sql_count[0]['generated_text']}\")\n",
        "\n",
        "# Execute the generated SQL\n",
        "result_count = psql(sql_count[0]['generated_text'])\n",
        "print(\"Query Result on Dummy Data:\")\n",
        "print(result_count)"
      ],
      "metadata": {
        "colab": {
          "base_uri": "https://localhost:8080/"
        },
        "id": "L7cwiYrsZHHP",
        "outputId": "acdfa879-c103-40d6-8ce4-026676cb33e4"
      },
      "execution_count": null,
      "outputs": [
        {
          "output_type": "stream",
          "name": "stdout",
          "text": [
            "Count Query: How many students are there?\n",
            "Generated SQL: SELECT count(*) FROM student\n",
            "Query Result on Dummy Data:\n",
            "   count(*)\n",
            "0        30\n"
          ]
        }
      ]
    },
    {
      "cell_type": "code",
      "source": [
        "nl_query = \"Count the number of students for each grade.\"\n",
        "prompt = f\"### {db_schema}\\n### Task\\n{nl_query}\"\n",
        "sql = text_to_sql_pipeline(prompt)\n",
        "print(f\"Generated SQL: {sql[0]['generated_text']}\")\n",
        "result = psql(sql[0]['generated_text'])\n",
        "print(\"Result:\")\n",
        "print(result)"
      ],
      "metadata": {
        "colab": {
          "base_uri": "https://localhost:8080/"
        },
        "id": "ZfVhYNv0aDo7",
        "outputId": "a2db08d0-a7b9-4897-cf3e-67f5ec8ea361"
      },
      "execution_count": null,
      "outputs": [
        {
          "output_type": "stream",
          "name": "stdout",
          "text": [
            "Generated SQL: SELECT count(*) , grade FROM student GROUP BY grade\n",
            "Result:\n",
            "   count(*) grade\n",
            "0         5     A\n",
            "1         5     B\n",
            "2        11     C\n",
            "3         9     D\n"
          ]
        }
      ]
    },
    {
      "cell_type": "code",
      "source": [
        "#V6\n",
        "nl_query_six = \"Show the names of students with marks above 85 and an age less than 22.\"\n",
        "prompt_six = f\"### {db_schema}\\n### Task\\n{nl_query_six}\"\n",
        "sql_six = text_to_sql_pipeline(prompt_six)\n",
        "\n",
        "print(f\"V6 Natural Language: {nl_query_six}\")\n",
        "print(f\"V6 Generated SQL: {sql_six[0]['generated_text']}\")\n",
        "\n",
        "# Manually correct the generated SQL\n",
        "corrected_sql_six = \"SELECT name FROM student WHERE marks > 85 AND age < 22\"\n",
        "print(f\"V6 Corrected SQL: {corrected_sql_six}\")\n",
        "\n",
        "result_six = psql(corrected_sql_six)\n",
        "print(\"V6 Query Result on Dummy Data:\")\n",
        "print(result_six)"
      ],
      "metadata": {
        "id": "YRmSdW_eaTS1",
        "colab": {
          "base_uri": "https://localhost:8080/"
        },
        "outputId": "5ef2da6e-8e1a-4a03-9a38-db1ba6f1a4ad"
      },
      "execution_count": null,
      "outputs": [
        {
          "output_type": "stream",
          "name": "stdout",
          "text": [
            "V6 Natural Language: Show the names of students with marks above 85 and an age less than 22.\n",
            "V6 Generated SQL: SELECT name FROM student WHERE marks > 85 AND age  22\n",
            "V6 Corrected SQL: SELECT name FROM student WHERE marks > 85 AND age < 22\n",
            "V6 Query Result on Dummy Data:\n",
            "         name\n",
            "0   Student_4\n",
            "1   Student_7\n",
            "2  Student_20\n",
            "3  Student_22\n"
          ]
        }
      ]
    }
  ]
}